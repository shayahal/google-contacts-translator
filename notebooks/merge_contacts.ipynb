{
 "cells": [
  {
   "cell_type": "code",
   "execution_count": null,
   "metadata": {},
   "outputs": [],
   "source": [
    "import pandas as pd\n",
    "import sys\n",
    "from pathlib import Path\n",
    "INPUT_FILE = '../contacts (1).csv'\n",
    "OUTPUT_FILE = 'translated_contacts.csv'\n",
    "# Add the project root directory to the Python path\n",
    "from src.contact_merger import process_contacts\n",
    "\n",
    "# Example data (replace with your data source)\n",
    "contacts_data = pd.read_csv(INPUT_FILE)\n",
    "# Process the contacts\n",
    "processed_contacts = process_contacts(contacts_data)\n",
    "processed_contacts.to_csv(OUTPUT_FILE, index=False)"
   ]
  }
 ],
 "metadata": {
  "kernelspec": {
   "display_name": "Python 3",
   "language": "python",
   "name": "python3"
  },
  "language_info": {
   "codemirror_mode": {
    "name": "ipython",
    "version": 3
   },
   "file_extension": ".py",
   "mimetype": "text/x-python",
   "name": "python",
   "nbconvert_exporter": "python",
   "pygments_lexer": "ipython3",
   "version": "3.9.6"
  }
 },
 "nbformat": 4,
 "nbformat_minor": 2
}
